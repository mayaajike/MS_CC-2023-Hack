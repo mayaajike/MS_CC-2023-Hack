{
  "cells": [
    {
      "cell_type": "markdown",
      "id": "7987fdaf-7f7c-4470-8eda-76286e953964",
      "metadata": {
        "id": "7987fdaf-7f7c-4470-8eda-76286e953964"
      },
      "source": [
        "# Pandemic! Control a Pandemic Disease before it Runs Rampant\n",
        "_[Mini-workshop@SC22] November 13, 2022_ <br>\n",
        "Reference Site: https://hackhpc.github.io/StudentHackatSC22/\n",
        "\n",
        "A SIR model is an epidemiological model that computes the theoretical number of people infected with a contagious illness in a closed population over time. The name of this class of models derives from the fact that they involve coupled equations relating the number of susceptible people S(t), number of people infected I(t), and number of people who have recovered R(t).<br> \n",
        "\n",
        "<img src=\"images/SIR-model.png\" style=\"border: solid 2px black;\"></img>\n",
        "\n",
        "In this model, we've introduced 2 object classes, the Person Object, and the Population Object - essentially a collection of People. <br>\n",
        "\n",
        "We will use a simple model where a person can be:\n",
        "- susceptible: they are healthy, but can be infected;\n",
        "- sick: when they are sick, they can infect other people;\n",
        "- recovered: they have been sick, but no longer carry the disease, and can not be infected for a\n",
        "second time;\n",
        "- vaccinated: they are healthy, do not carry the disease, and can not be infected\n",
        "\n",
        "There will be a patient zero.<br><br>\n",
        "Some assumptions:\n",
        "- When a Person interacts with a Person with the status of \"sick\", that Person then has a 10% chance of becoming sick themselves.\n",
        "- Each Person interacts with the same constant number of people\n",
        "- A Person stays sick for 5 days\n",
        "- Once a Persons recovers, they become innoculated\n"
      ]
    },
    {
      "cell_type": "markdown",
      "id": "839c5092-d68e-48a8-94af-022ba960d32c",
      "metadata": {
        "id": "839c5092-d68e-48a8-94af-022ba960d32c"
      },
      "source": [
        "### Person object parameters:\n",
        "\n",
        "#### &#128100; Joe:\n",
        "##### has a state: Suceptable, Infected, Recovered\n",
        "##### has number of days sick &#129319;\n",
        "##### chance of being sick\n"
      ]
    },
    {
      "cell_type": "code",
      "execution_count": null,
      "id": "5eea30be-ad7f-4da0-a86d-665dc2a9146a",
      "metadata": {
        "id": "5eea30be-ad7f-4da0-a86d-665dc2a9146a"
      },
      "outputs": [],
      "source": [
        "import numpy as np\n",
        "import random\n",
        "\n",
        "my_array = np.array"
      ]
    },
    {
      "cell_type": "code",
      "execution_count": null,
      "id": "def204db-e0d2-4a44-ab04-21aa02b9aec3",
      "metadata": {
        "id": "def204db-e0d2-4a44-ab04-21aa02b9aec3"
      },
      "outputs": [],
      "source": [
        "class Person(object):\n",
        "    def __init__(self):\n",
        "        self.status = \"Susceptible\"\n",
        "        self.days_sick = 0\n",
        "        self.sickness_rate = 10\n",
        "        self.Interaction = []\n",
        "        self.masked = False\n",
        "        \n",
        "    def maskUp(self, wears_mask):\n",
        "        if (wears_mask):\n",
        "            self.set_sickness_rate(self.sickness_rate*0.7)\n",
        "            self.masked = True\n",
        "    \n",
        "    def set_sickness_rate(self, new_rate):\n",
        "        self.sickness_rate = new_rate\n",
        "    \n",
        "    def infect(self, number_of_days_sick):\n",
        "        self.status = \"Infected\"\n",
        "        self.days_sick = number_of_days_sick\n",
        "    \n",
        "    def recover(self):\n",
        "        self.status = \"Recovered\"\n",
        "        self.days_sick = 0\n",
        "    \n",
        "    def update(self):\n",
        "        if (self.status == \"Susceptible\"):\n",
        "            self.roll_for_infection()\n",
        "            \n",
        "        elif (self.status == \"Infected\"):            \n",
        "            self.days_sick = self.days_sick - 1\n",
        "            if (self.days_sick <= 0):\n",
        "                self.recover()\n",
        "    \n",
        "    def update_days_sick(self):\n",
        "        if (self.status == \"Infected\"):            \n",
        "            self.days_sick = self.days_sick - 1\n",
        "            if (self.days_sick <= 0):\n",
        "                self.recover()\n",
        "            \n",
        "\n",
        "            \n",
        "    def roll_for_infection(self):\n",
        "        is_sick = (random.randint(0,101) < self.sickness_rate)\n",
        "        if (is_sick):\n",
        "            self.infect(4)\n",
        "            \n",
        "        "
      ]
    },
    {
      "cell_type": "markdown",
      "id": "74e87541-e941-4791-a2e9-4c1d513ce595",
      "metadata": {
        "id": "74e87541-e941-4791-a2e9-4c1d513ce595"
      },
      "source": [
        "Let's implement our object,  </br>\n",
        "start w/ instantiating Joe as a Person and Jane as a Person"
      ]
    },
    {
      "cell_type": "code",
      "execution_count": null,
      "id": "9bb17182-04c4-450d-87c8-84deba516ddf",
      "metadata": {
        "id": "9bb17182-04c4-450d-87c8-84deba516ddf"
      },
      "outputs": [],
      "source": [
        "Joe = Person()\n",
        "Jane = Person()\n",
        "Jane.set_sickness_rate(10) #jane has a different sickness rate, joe has the default\n",
        "\n",
        "day = 0\n",
        "\n",
        "while (Joe.status != \"Recovered\" or Jane.status != \"Recovered\"):\n",
        "    day = day + 1        \n",
        "    Joe.update()\n",
        "    if (Joe.status == \"Infected\" or Jane.status == \"Infected\"):\n",
        "        Jane.update()\n",
        "        \n",
        "        \n",
        "    print(\"Joe is \" + Joe.status + \" day:\" + str(day))\n",
        "    print(\"Jane is \" + Jane.status + \" day:\" + str(day))\n",
        "    \n",
        "    #My conditions didn't happen, let's rerun\n",
        "    #if Joe is recovered and Jane is still susceptable, the condtions for our program weren't met\n",
        "    #run it again!\n",
        "    if (Joe.status == \"Recovered\" and Jane.status == \"Susceptible\"):\n",
        "        Joe.status = \"Susceptible\"\n",
        "        day = 0\n",
        "        print()\n",
        "        print (\"------- reset -------\")\n"
      ]
    },
    {
      "cell_type": "markdown",
      "id": "87359155-ad4f-4530-b3e0-f39f92c98b8a",
      "metadata": {
        "id": "87359155-ad4f-4530-b3e0-f39f92c98b8a"
      },
      "source": [
        "#### &#128101; Now, we're going to create a population of 100 Persons\n"
      ]
    },
    {
      "cell_type": "code",
      "execution_count": null,
      "id": "62245fa8-fc12-445e-bcac-1f74f2ce77ae",
      "metadata": {
        "id": "62245fa8-fc12-445e-bcac-1f74f2ce77ae"
      },
      "outputs": [],
      "source": [
        "my_population = []\n",
        "n = 101\n",
        "for i in range(0,n):\n",
        "    generic_dude = Person()\n",
        "    my_population.append(generic_dude) # we now have a population of 100 people\n",
        "    "
      ]
    },
    {
      "cell_type": "code",
      "execution_count": null,
      "id": "304aed05-e388-4606-b946-55dd5e993663",
      "metadata": {
        "id": "304aed05-e388-4606-b946-55dd5e993663"
      },
      "outputs": [],
      "source": [
        "print (type(my_population))"
      ]
    },
    {
      "cell_type": "code",
      "execution_count": null,
      "id": "89347799-ca95-483e-a75c-e5115f005ef6",
      "metadata": {
        "id": "89347799-ca95-483e-a75c-e5115f005ef6"
      },
      "outputs": [],
      "source": [
        "print (len(my_population))"
      ]
    },
    {
      "cell_type": "code",
      "execution_count": null,
      "id": "e5de4a26-6ca5-4e98-9ef1-33d3a4a7b4f9",
      "metadata": {
        "id": "e5de4a26-6ca5-4e98-9ef1-33d3a4a7b4f9"
      },
      "outputs": [],
      "source": [
        "print (type(my_population[99]))"
      ]
    },
    {
      "cell_type": "code",
      "execution_count": null,
      "id": "f50847da-63e2-41d7-8125-2fe4755c8776",
      "metadata": {
        "id": "f50847da-63e2-41d7-8125-2fe4755c8776"
      },
      "outputs": [],
      "source": [
        "my_population[99].infect(10) # Let's see if our code works\n",
        "print (my_population[99].status)"
      ]
    },
    {
      "cell_type": "markdown",
      "id": "a5931a05-246c-4bbb-bc12-134dc9dcb76d",
      "metadata": {
        "id": "a5931a05-246c-4bbb-bc12-134dc9dcb76d"
      },
      "source": [
        "### Let see if we can figure out a way for Persons to interact"
      ]
    },
    {
      "cell_type": "code",
      "execution_count": null,
      "id": "ebd2ec92-24cb-45b2-8389-e7b91d5bbfce",
      "metadata": {
        "colab": {
          "base_uri": "https://localhost:8080/"
        },
        "id": "ebd2ec92-24cb-45b2-8389-e7b91d5bbfce",
        "outputId": "f53952fb-db60-4baa-eb63-6f671256cb46"
      },
      "outputs": [
        {
          "output_type": "stream",
          "name": "stdout",
          "text": [
            "Person: 0  interacted with: [53, 62, 38, 80, 59, 17, 25, 14, 97, 98]\n",
            "Person: 1  interacted with: [25, 69, 38, 14, 13, 65, 98, 55, 0, 61]\n",
            "Person: 2  interacted with: [74, 57, 44, 3, 39, 15, 84, 46, 15, 41]\n",
            "Person: 3  interacted with: [94, 95, 42, 99, 62, 21, 90, 39, 0, 41]\n",
            "Person: 4  interacted with: [18, 73, 38, 21, 84, 17, 37, 89, 63, 18]\n",
            "Person: 5  interacted with: [55, 42, 78, 98, 77, 92, 82, 50, 4, 97]\n",
            "Person: 6  interacted with: [3, 71, 82, 18, 55, 22, 38, 100, 51, 65]\n",
            "Person: 7  interacted with: [34, 23, 85, 24, 80, 29, 16, 91, 27, 73]\n",
            "Person: 8  interacted with: [68, 33, 31, 96, 35, 35, 54, 6, 75, 45]\n",
            "Person: 9  interacted with: [98, 61, 85, 93, 95, 97, 81, 31, 8, 97]\n",
            "Person: 10  interacted with: [29, 77, 82, 6, 67, 53, 54, 70, 76, 28]\n",
            "Person: 11  interacted with: [30, 41, 99, 95, 16, 87, 90, 43, 36, 50]\n",
            "Person: 12  interacted with: [74, 65, 41, 25, 7, 28, 24, 13, 56, 28]\n",
            "Person: 13  interacted with: [66, 30, 32, 29, 80, 63, 14, 23, 25, 48]\n",
            "Person: 14  interacted with: [68, 79, 62, 33, 69, 59, 3, 21, 60, 7]\n",
            "Person: 15  interacted with: [72, 63, 38, 68, 93, 38, 43, 54, 40, 53]\n",
            "Person: 16  interacted with: [97, 48, 62, 11, 43, 11, 40, 21, 53, 33]\n",
            "Person: 17  interacted with: [20, 78, 54, 24, 84, 49, 99, 32, 75, 90]\n",
            "Person: 18  interacted with: [56, 95, 47, 7, 80, 24, 42, 27, 98, 33]\n",
            "Person: 19  interacted with: [60, 55, 41, 96, 57, 88, 81, 79, 46, 83]\n",
            "Person: 20  interacted with: [97, 27, 82, 94, 37, 50, 42, 26, 1, 29]\n",
            "Person: 21  interacted with: [0, 51, 35, 12, 92, 36, 55, 91, 52, 26]\n",
            "Person: 22  interacted with: [58, 9, 54, 32, 54, 67, 46, 42, 34, 86]\n",
            "Person: 23  interacted with: [38, 34, 11, 98, 75, 9, 17, 74, 64, 48]\n",
            "Person: 24  interacted with: [93, 31, 73, 19, 19, 97, 19, 84, 27, 68]\n",
            "Person: 25  interacted with: [35, 32, 13, 14, 30, 91, 83, 13, 97, 25]\n",
            "Person: 26  interacted with: [54, 46, 7, 59, 90, 100, 68, 54, 92, 100]\n",
            "Person: 27  interacted with: [52, 9, 18, 63, 43, 39, 96, 97, 55, 81]\n",
            "Person: 28  interacted with: [53, 92, 87, 88, 36, 36, 75, 1, 62, 93]\n",
            "Person: 29  interacted with: [89, 69, 4, 52, 83, 92, 24, 82, 1, 58]\n",
            "Person: 30  interacted with: [29, 82, 73, 56, 41, 82, 51, 7, 81, 45]\n",
            "Person: 31  interacted with: [43, 39, 78, 13, 19, 12, 90, 22, 15, 52]\n",
            "Person: 32  interacted with: [54, 3, 20, 77, 65, 44, 2, 50, 56, 51]\n",
            "Person: 33  interacted with: [33, 59, 28, 19, 37, 75, 87, 65, 66, 61]\n",
            "Person: 34  interacted with: [88, 73, 61, 11, 100, 37, 80, 2, 31, 38]\n",
            "Person: 35  interacted with: [13, 20, 75, 3, 55, 81, 15, 82, 16, 74]\n",
            "Person: 36  interacted with: [1, 55, 53, 11, 46, 35, 38, 17, 59, 21]\n",
            "Person: 37  interacted with: [55, 31, 77, 84, 65, 98, 44, 95, 86, 80]\n",
            "Person: 38  interacted with: [1, 78, 74, 5, 96, 96, 55, 60, 57, 77]\n",
            "Person: 39  interacted with: [59, 64, 91, 40, 79, 76, 46, 0, 60, 22]\n",
            "Person: 40  interacted with: [38, 17, 5, 36, 68, 36, 85, 84, 49, 51]\n",
            "Person: 41  interacted with: [95, 4, 44, 36, 24, 59, 23, 29, 42, 8]\n",
            "Person: 42  interacted with: [48, 3, 70, 61, 59, 89, 87, 38, 26, 81]\n",
            "Person: 43  interacted with: [74, 33, 75, 41, 91, 32, 40, 15, 93, 5]\n",
            "Person: 44  interacted with: [5, 7, 86, 29, 65, 54, 39, 37, 0, 64]\n",
            "Person: 45  interacted with: [71, 15, 12, 73, 40, 93, 42, 15, 87, 82]\n",
            "Person: 46  interacted with: [97, 46, 20, 83, 99, 66, 69, 67, 84, 24]\n",
            "Person: 47  interacted with: [46, 3, 77, 5, 76, 21, 99, 55, 34, 15]\n",
            "Person: 48  interacted with: [69, 88, 85, 51, 95, 7, 23, 44, 28, 19]\n",
            "Person: 49  interacted with: [45, 72, 72, 40, 0, 35, 1, 52, 77, 82]\n",
            "Person: 50  interacted with: [70, 9, 21, 80, 88, 68, 56, 81, 18, 29]\n",
            "Person: 51  interacted with: [36, 85, 56, 91, 13, 94, 57, 36, 67, 13]\n",
            "Person: 52  interacted with: [79, 39, 42, 35, 29, 53, 18, 96, 93, 60]\n",
            "Person: 53  interacted with: [61, 61, 84, 93, 93, 97, 39, 35, 13, 44]\n",
            "Person: 54  interacted with: [97, 66, 92, 21, 41, 33, 59, 16, 66, 60]\n",
            "Person: 55  interacted with: [85, 58, 44, 85, 62, 16, 58, 23, 11, 6]\n",
            "Person: 56  interacted with: [13, 17, 77, 83, 22, 41, 39, 53, 74, 80]\n",
            "Person: 57  interacted with: [3, 78, 0, 100, 74, 43, 88, 87, 23, 55]\n",
            "Person: 58  interacted with: [61, 27, 16, 12, 89, 52, 7, 54, 25, 46]\n",
            "Person: 59  interacted with: [63, 20, 14, 22, 28, 43, 18, 97, 37, 59]\n",
            "Person: 60  interacted with: [20, 54, 82, 35, 62, 96, 33, 7, 34, 93]\n",
            "Person: 61  interacted with: [74, 72, 79, 41, 16, 78, 25, 16, 20, 40]\n",
            "Person: 62  interacted with: [58, 39, 86, 35, 9, 90, 92, 28, 15, 24]\n",
            "Person: 63  interacted with: [41, 79, 14, 49, 81, 86, 51, 47, 58, 35]\n",
            "Person: 64  interacted with: [30, 81, 49, 11, 79, 2, 62, 82, 86, 13]\n",
            "Person: 65  interacted with: [25, 25, 59, 4, 26, 82, 43, 31, 34, 24]\n",
            "Person: 66  interacted with: [39, 26, 75, 43, 66, 83, 57, 29, 96, 28]\n",
            "Person: 67  interacted with: [31, 10, 79, 85, 45, 87, 69, 23, 21, 94]\n",
            "Person: 68  interacted with: [18, 44, 27, 58, 57, 77, 7, 73, 16, 92]\n",
            "Person: 69  interacted with: [67, 42, 0, 73, 7, 28, 100, 75, 92, 97]\n",
            "Person: 70  interacted with: [35, 34, 26, 18, 10, 13, 28, 4, 63, 11]\n",
            "Person: 71  interacted with: [21, 19, 8, 65, 64, 9, 9, 87, 0, 64]\n",
            "Person: 72  interacted with: [15, 39, 86, 75, 30, 100, 54, 0, 50, 17]\n",
            "Person: 73  interacted with: [79, 29, 49, 0, 6, 30, 53, 73, 55, 64]\n",
            "Person: 74  interacted with: [93, 40, 77, 1, 15, 7, 25, 61, 97, 96]\n",
            "Person: 75  interacted with: [8, 25, 87, 76, 16, 55, 98, 84, 55, 30]\n",
            "Person: 76  interacted with: [41, 42, 55, 94, 22, 15, 88, 27, 44, 38]\n",
            "Person: 77  interacted with: [66, 71, 45, 92, 95, 2, 85, 36, 79, 21]\n",
            "Person: 78  interacted with: [25, 58, 58, 100, 8, 53, 53, 87, 64, 55]\n",
            "Person: 79  interacted with: [27, 20, 30, 38, 9, 44, 73, 1, 83, 51]\n",
            "Person: 80  interacted with: [71, 37, 41, 30, 34, 0, 85, 78, 91, 6]\n",
            "Person: 81  interacted with: [50, 0, 7, 67, 65, 72, 56, 68, 63, 42]\n",
            "Person: 82  interacted with: [10, 96, 84, 58, 100, 0, 67, 0, 39, 71]\n",
            "Person: 83  interacted with: [51, 88, 83, 65, 13, 22, 49, 10, 99, 2]\n",
            "Person: 84  interacted with: [32, 97, 90, 62, 86, 67, 75, 71, 69, 56]\n",
            "Person: 85  interacted with: [12, 5, 80, 77, 98, 4, 72, 5, 11, 63]\n",
            "Person: 86  interacted with: [97, 58, 70, 19, 10, 55, 13, 84, 35, 16]\n",
            "Person: 87  interacted with: [71, 82, 71, 36, 98, 91, 23, 8, 18, 0]\n",
            "Person: 88  interacted with: [44, 78, 45, 98, 54, 36, 12, 16, 99, 69]\n",
            "Person: 89  interacted with: [96, 40, 88, 91, 92, 48, 96, 45, 69, 77]\n",
            "Person: 90  interacted with: [58, 69, 18, 37, 6, 97, 74, 73, 28, 96]\n",
            "Person: 91  interacted with: [84, 47, 38, 61, 36, 81, 43, 37, 23, 27]\n",
            "Person: 92  interacted with: [9, 29, 76, 12, 67, 72, 100, 72, 97, 33]\n",
            "Person: 93  interacted with: [23, 21, 81, 100, 32, 93, 26, 49, 81, 13]\n",
            "Person: 94  interacted with: [2, 2, 86, 64, 57, 93, 53, 96, 98, 3]\n",
            "Person: 95  interacted with: [31, 94, 32, 44, 43, 73, 43, 36, 31, 53]\n",
            "Person: 96  interacted with: [33, 44, 36, 66, 76, 16, 47, 49, 76, 14]\n",
            "Person: 97  interacted with: [73, 91, 19, 31, 59, 21, 28, 23, 87, 4]\n",
            "Person: 98  interacted with: [81, 30, 85, 34, 99, 98, 92, 58, 28, 11]\n",
            "Person: 99  interacted with: [55, 23, 30, 85, 93, 19, 73, 76, 60, 54]\n",
            "Person: 100  interacted with: [61, 47, 18, 81, 0, 56, 81, 81, 3, 12]\n"
          ]
        }
      ],
      "source": [
        "interactions = []\n",
        "index = -1\n",
        "for p in my_population:\n",
        "    p_interactions = []\n",
        "    for i in range(0,10):\n",
        "        r = random.randint(0,100)\n",
        "        p_interactions.append(r)\n",
        "    interactions.append(p_interactions)\n",
        "\n",
        "for i in interactions:\n",
        "    index = index + 1\n",
        "    print (\"Person:\", index, \" interacted with:\", i)"
      ]
    },
    {
      "cell_type": "markdown",
      "id": "c8c6ea89-cabd-473e-8fda-d53cd94142a2",
      "metadata": {
        "id": "c8c6ea89-cabd-473e-8fda-d53cd94142a2"
      },
      "source": [
        "Randomly Infect 10 people\n",
        "print out the number of people who are sick at the beginning of day 1\n",
        "\n",
        "We're going to simulate Day 1\n",
        "If anyone interacts with these 10 people, they must roll a die to see if they get sick\n",
        "\n",
        "meaning, every sick person that shows up in someones interaction list, that someone rolls to see if they get sick or not.\n",
        "\n",
        "Also, *every* person who shows up in a sick persons interaction list, has to roll to see if they get sick or not.\n",
        "\n",
        "Print out the number of people sick after day 1"
      ]
    },
    {
      "cell_type": "code",
      "execution_count": null,
      "id": "8b2f1750-a781-4c9f-8931-981563f22d0d",
      "metadata": {
        "id": "8b2f1750-a781-4c9f-8931-981563f22d0d"
      },
      "outputs": [],
      "source": [
        "#first thing: infect 10 people\n",
        "\n",
        "#print out the number of people who are sick\n",
        "\n",
        "#look at their interaction lists\n",
        "\n",
        "#If anyone interacts with them, see if they get sick\n",
        "\n",
        "\n"
      ]
    },
    {
      "cell_type": "code",
      "execution_count": null,
      "id": "dba36a2f-59cf-4f30-a376-2066843ffb75",
      "metadata": {
        "colab": {
          "base_uri": "https://localhost:8080/"
        },
        "id": "dba36a2f-59cf-4f30-a376-2066843ffb75",
        "outputId": "9a66a0f3-1fe7-4a87-b553-765f3814f082"
      },
      "outputs": [
        {
          "output_type": "stream",
          "name": "stdout",
          "text": [
            "Day 1, number of people sick:10\n",
            "[57, 45, 19, 77, 28, 81, 60, 88, 44, 31]\n",
            "End of Day 1, number of people sick: 53\n",
            "[57, 45, 19, 77, 28, 81, 60, 88, 44, 31, 2, 5, 8, 65, 18, 99, 47, 21, 93, 23, 27, 15, 29, 75, 37, 43, 73, 94, 78, 48, 51, 52, 9, 76, 62, 86, 68, 59, 70, 74, 79, 95, 17, 87, 90, 41, 91, 92, 84, 25, 97, 98, 100]\n"
          ]
        }
      ],
      "source": [
        "# We're selecting 10 indexes of people we're going to infect\n",
        "import random  \n",
        "currently_infected = random.sample(range(100), 10)\n",
        "\n",
        "for i in currently_infected:\n",
        "    my_population[i].infect(5)\n",
        "\n",
        "\n",
        "print (\"Day 1, number of people sick:\" + str(len(currently_infected)))\n",
        "print (currently_infected)\n",
        "\n",
        "interactions = []\n",
        "person_index = -1\n",
        "for p in my_population:\n",
        "    person_index = person_index + 1\n",
        "\n",
        "    # if person_index is in the currently_sick list, everyone they interact w/ can get sick\n",
        "    \n",
        "    p_interactions = []\n",
        "    for i in range(0,10):        \n",
        "        r = random.randint(0,99)\n",
        "        p_interactions.append(r)\n",
        "\n",
        "        #If person_index is already sick, everyone they contact, might also get sick\n",
        "        \n",
        "        if (person_index in currently_infected):\n",
        "            my_population[r].update()\n",
        "            if (my_population[r].status == \"Infected\" and r not in currently_infected):\n",
        "                currently_infected.append(r)\n",
        "        #If anyone has an infected person in their interactions list, *they* might get infected\n",
        "        if (r in currently_infected):\n",
        "            my_population[person_index].update()\n",
        "            if (my_population[person_index].status == \"Infected\" and person_index not in currently_infected):\n",
        "                currently_infected.append(person_index)\n",
        "    interactions.append(p_interactions)\n",
        "        \n",
        "        \n",
        "# person_index = -1\n",
        "# for i in interactions:\n",
        "#     person_index = person_index + 1\n",
        "#     print (\"Person:\", person_index, \" interacted with:\", i)\n",
        "\n",
        "print (\"End of Day 1, number of people sick:\", len(currently_infected))\n",
        "print (currently_infected)"
      ]
    },
    {
      "cell_type": "markdown",
      "id": "f86b3a12-460e-4939-ba98-42ec406cca52",
      "metadata": {
        "id": "f86b3a12-460e-4939-ba98-42ec406cca52"
      },
      "source": [
        "## We need \"something\" to manage and hold our People"
      ]
    },
    {
      "cell_type": "code",
      "execution_count": null,
      "id": "1754a1c7-4f89-427b-9161-b891b9c10aaa",
      "metadata": {
        "id": "1754a1c7-4f89-427b-9161-b891b9c10aaa"
      },
      "outputs": [],
      "source": [
        "class Population:\n",
        "    def __init__(self, number=100, interaction=10, percentage_masked=82):\n",
        "        self.People = []\n",
        "        self.number = number\n",
        "        self.interaction = interaction\n",
        "        self.percentage_masked = percentage_masked\n",
        "        \n",
        "        if (number < 100):\n",
        "            self.number = 100\n",
        "        \n",
        "        if (interaction < 10):\n",
        "            self.interaction = 10\n",
        "        \n",
        "        ##build our population\n",
        "        patient_Zero = Person()\n",
        "        patient_Zero.infect(5)\n",
        "        \n",
        "        self.People.append(patient_Zero)\n",
        "        \n",
        "        for i in range(0,number):\n",
        "            p = Person()\n",
        "            if (i < number*(self.percentage_masked/100.0) and self.percentage_masked>0):\n",
        "                p.maskUp(True)\n",
        "                \n",
        "            self.People.append(p)\n",
        "\n",
        "               \n",
        "            \n",
        "    def number_of_sick(self):\n",
        "        sick_Count = 0\n",
        "        for j in self.People:\n",
        "            if (j.status == \"Infected\"):\n",
        "                sick_Count = sick_Count + 1\n",
        "                \n",
        "        return sick_Count\n",
        "    \n",
        "    def number_of_recovered(self):\n",
        "        recovered_Count = 0\n",
        "        for j in self.People:\n",
        "            if (j.status == \"Recovered\"):\n",
        "                recovered_Count = recovered_Count + 1\n",
        "        \n",
        "        return recovered_Count\n",
        "    \n",
        "    def number_of_susceptible(self):\n",
        "        susceptible_Count = 0\n",
        "        for j in self.People:\n",
        "            if (j.status == \"Susceptible\"):\n",
        "                susceptible_Count = susceptible_Count + 1\n",
        "                \n",
        "        return susceptible_Count\n",
        "    \n",
        "    def number_masked(self):\n",
        "        masked_Count = 0\n",
        "        for j in self.People:\n",
        "            if (j.masked):\n",
        "                masked_Count = masked_Count + 1\n",
        "        \n",
        "        return masked_Count\n",
        "    \n",
        "    def number_masked_sick(self):\n",
        "        masked_SickCount = 0\n",
        "        for j in self.People:\n",
        "            if (j.masked and j.status == \"Infected\"):\n",
        "                masked_SickCount = masked_SickCount + 1\n",
        "        \n",
        "        return masked_SickCount\n",
        "    \n",
        "    ## Here's the brains of the Population class (and our code)\n",
        "    ## the update will be ran everyday (meaning, every iteration of our while loop)\n",
        "    ## build interaction tables (who interacted with whom)\n",
        "    ## if marked sick they must roll to see if (one per interaction)\n",
        "    ## if I interacted with 10 people, each of them must roll and vice versa if they\n",
        "    ## they were marked as infected\n",
        "    def update(self):\n",
        "        ## people who are might get sick\n",
        "        might_Get_Sick = []\n",
        "        \n",
        "        for person in self.People:\n",
        "            \n",
        "            #clear out your interactions per day\n",
        "            person.Interaction = []\n",
        "            \n",
        "            ##These are the n number of people that you interact with\n",
        "            for i in range(0, self.interaction):\n",
        "                r = random.randint(0,self.number)\n",
        "                person.Interaction.append(r)\n",
        "                \n",
        "            ##if \"person\" is Infected, every single person they interacted with might get sick\n",
        "            if (person.status == \"Infected\"):\n",
        "                person.update_days_sick()\n",
        "                \n",
        "                for m in person.Interaction:\n",
        "                    if (self.People[m].status == \"Susceptible\"): #only susceptible people can get sick\n",
        "                        might_Get_Sick.append(self.People[m])\n",
        "            \n",
        "            ##if \"person\" is susceptible and they interact w/ someone who is \"infected\" \n",
        "            ##person gets added to the \"might get sick\"\n",
        "            if (person.status == \"Susceptible\"):\n",
        "                for m in person.Interaction:\n",
        "                    if (self.People[m].status == \"Infected\"):\n",
        "                        might_Get_Sick.append(person)\n",
        "            \n",
        "        ##Now! We're going to roll through our \"Might Get Sick\" and they each roll a die\n",
        "        ##this is only a list of susceptible people\n",
        "        for p in might_Get_Sick:\n",
        "            p.roll_for_infection()\n",
        "        "
      ]
    },
    {
      "cell_type": "markdown",
      "id": "791a50f6-5ef7-40c8-8ec2-8003386e2a5c",
      "metadata": {
        "id": "791a50f6-5ef7-40c8-8ec2-8003386e2a5c"
      },
      "source": [
        "## Lets build a population\n",
        "Build a population of 1000 with 10 initally infected people:\n",
        "`myCommunity = Population(1000,10)`"
      ]
    },
    {
      "cell_type": "code",
      "execution_count": null,
      "id": "202dbdf6-18f6-48cb-9b1e-4b4f01c9d95d",
      "metadata": {
        "colab": {
          "base_uri": "https://localhost:8080/"
        },
        "id": "202dbdf6-18f6-48cb-9b1e-4b4f01c9d95d",
        "outputId": "d92bd498-4507-4bad-f5be-ec43618d5be0"
      },
      "outputs": [
        {
          "output_type": "stream",
          "name": "stdout",
          "text": [
            "day: 0 Number of sick: 1 Sick Mask Wearers: 0 Mask Wearers: 32800\n",
            "day: 1 Number of sick: 2 Sick Mask Wearers: 1 Mask Wearers: 32800\n",
            "day: 2 Number of sick: 6 Sick Mask Wearers: 5 Mask Wearers: 32800\n"
          ]
        }
      ],
      "source": [
        "# Population( size_of_population, number_of_interactions, percentage_wearing_masks)\n",
        "myCommunity = Population(40000,5,82)\n",
        "day = 0\n",
        "my_plot = []\n",
        "number_sick = myCommunity.number_of_sick()\n",
        "while (number_sick > 0):\n",
        "    number_sick = myCommunity.number_of_sick()\n",
        "    number_recovered = myCommunity.number_of_recovered()\n",
        "    number_masked = myCommunity.number_masked()\n",
        "    number_masked_sick = myCommunity.number_masked_sick()\n",
        "    \n",
        "    my_plot.append([day, number_sick, number_recovered])\n",
        "    \n",
        "    if (myCommunity.percentage_masked > 0):\n",
        "        print (\"day:\", day, \"Number of sick:\", number_sick, \"Sick Mask Wearers:\", number_masked_sick, \"Mask Wearers:\", number_masked)\n",
        "    else:\n",
        "        print (\"day:\", day, \"Number of sick:\", number_sick)\n",
        "    \n",
        "    day = day+1\n",
        "    myCommunity.update()\n",
        "\n",
        "#print (\"day:\", day, \"Number of sick:\", myCommunity.number_of_sick())\n",
        "print (\"Number recovered:\", myCommunity.number_of_recovered())\n",
        "print (\"Number susceptible:\", myCommunity.number_of_susceptible())\n",
        "\n",
        "#print (my_plot)"
      ]
    },
    {
      "cell_type": "markdown",
      "id": "54e0220b-63cf-4cd2-b594-459383d0014a",
      "metadata": {
        "id": "54e0220b-63cf-4cd2-b594-459383d0014a"
      },
      "source": [
        "# &#128202; Plot your results"
      ]
    },
    {
      "cell_type": "code",
      "execution_count": null,
      "id": "48b285d4-abd9-4044-9621-2dcb8b24e08e",
      "metadata": {
        "id": "48b285d4-abd9-4044-9621-2dcb8b24e08e"
      },
      "outputs": [],
      "source": [
        "import pandas as pd\n",
        "import matplotlib.pyplot as plt"
      ]
    },
    {
      "cell_type": "code",
      "execution_count": null,
      "id": "0378df8e-349a-4fcf-b5ac-979ccced8ae4",
      "metadata": {
        "id": "0378df8e-349a-4fcf-b5ac-979ccced8ae4"
      },
      "outputs": [],
      "source": [
        "df = pd.DataFrame(my_plot, columns=['day','number_sick', 'number_recovered'])"
      ]
    },
    {
      "cell_type": "code",
      "execution_count": null,
      "id": "1d85771a-13a5-47f8-b830-79094319b2e2",
      "metadata": {
        "colab": {
          "base_uri": "https://localhost:8080/",
          "height": 864
        },
        "id": "1d85771a-13a5-47f8-b830-79094319b2e2",
        "outputId": "2ea29404-33ac-4f2f-e6f6-d7ef695950b6"
      },
      "outputs": [
        {
          "output_type": "execute_result",
          "data": {
            "text/plain": [
              "    day  number_sick  number_recovered\n",
              "0     0            1                 0\n",
              "1     1            2                 0\n",
              "2     2            6                 0\n",
              "3     3           15                 0\n",
              "4     4           33                 0\n",
              "5     5           65                 2\n",
              "6     6          163                 6\n",
              "7     7          381                15\n",
              "8     8          975                33\n",
              "9     9         2345                67\n",
              "10   10         5440               169\n",
              "11   11        11487               396\n",
              "12   12        20455              1008\n",
              "13   13        28730              2412\n",
              "14   14        31200              5609\n",
              "15   15        27021             11883\n",
              "16   16        18096             21463\n",
              "17   17         8607             31142\n",
              "18   18         2996             36809\n",
              "19   19          920             38904\n",
              "20   20          271             39559\n",
              "21   21           83             39749\n",
              "22   22           27             39805\n",
              "23   23            8             39824\n",
              "24   24            2             39830\n",
              "25   25            0             39832"
            ],
            "text/html": [
              "\n",
              "  <div id=\"df-bf06f27b-b37d-48ed-b2f1-54d1904a129e\">\n",
              "    <div class=\"colab-df-container\">\n",
              "      <div>\n",
              "<style scoped>\n",
              "    .dataframe tbody tr th:only-of-type {\n",
              "        vertical-align: middle;\n",
              "    }\n",
              "\n",
              "    .dataframe tbody tr th {\n",
              "        vertical-align: top;\n",
              "    }\n",
              "\n",
              "    .dataframe thead th {\n",
              "        text-align: right;\n",
              "    }\n",
              "</style>\n",
              "<table border=\"1\" class=\"dataframe\">\n",
              "  <thead>\n",
              "    <tr style=\"text-align: right;\">\n",
              "      <th></th>\n",
              "      <th>day</th>\n",
              "      <th>number_sick</th>\n",
              "      <th>number_recovered</th>\n",
              "    </tr>\n",
              "  </thead>\n",
              "  <tbody>\n",
              "    <tr>\n",
              "      <th>0</th>\n",
              "      <td>0</td>\n",
              "      <td>1</td>\n",
              "      <td>0</td>\n",
              "    </tr>\n",
              "    <tr>\n",
              "      <th>1</th>\n",
              "      <td>1</td>\n",
              "      <td>2</td>\n",
              "      <td>0</td>\n",
              "    </tr>\n",
              "    <tr>\n",
              "      <th>2</th>\n",
              "      <td>2</td>\n",
              "      <td>6</td>\n",
              "      <td>0</td>\n",
              "    </tr>\n",
              "    <tr>\n",
              "      <th>3</th>\n",
              "      <td>3</td>\n",
              "      <td>15</td>\n",
              "      <td>0</td>\n",
              "    </tr>\n",
              "    <tr>\n",
              "      <th>4</th>\n",
              "      <td>4</td>\n",
              "      <td>33</td>\n",
              "      <td>0</td>\n",
              "    </tr>\n",
              "    <tr>\n",
              "      <th>5</th>\n",
              "      <td>5</td>\n",
              "      <td>65</td>\n",
              "      <td>2</td>\n",
              "    </tr>\n",
              "    <tr>\n",
              "      <th>6</th>\n",
              "      <td>6</td>\n",
              "      <td>163</td>\n",
              "      <td>6</td>\n",
              "    </tr>\n",
              "    <tr>\n",
              "      <th>7</th>\n",
              "      <td>7</td>\n",
              "      <td>381</td>\n",
              "      <td>15</td>\n",
              "    </tr>\n",
              "    <tr>\n",
              "      <th>8</th>\n",
              "      <td>8</td>\n",
              "      <td>975</td>\n",
              "      <td>33</td>\n",
              "    </tr>\n",
              "    <tr>\n",
              "      <th>9</th>\n",
              "      <td>9</td>\n",
              "      <td>2345</td>\n",
              "      <td>67</td>\n",
              "    </tr>\n",
              "    <tr>\n",
              "      <th>10</th>\n",
              "      <td>10</td>\n",
              "      <td>5440</td>\n",
              "      <td>169</td>\n",
              "    </tr>\n",
              "    <tr>\n",
              "      <th>11</th>\n",
              "      <td>11</td>\n",
              "      <td>11487</td>\n",
              "      <td>396</td>\n",
              "    </tr>\n",
              "    <tr>\n",
              "      <th>12</th>\n",
              "      <td>12</td>\n",
              "      <td>20455</td>\n",
              "      <td>1008</td>\n",
              "    </tr>\n",
              "    <tr>\n",
              "      <th>13</th>\n",
              "      <td>13</td>\n",
              "      <td>28730</td>\n",
              "      <td>2412</td>\n",
              "    </tr>\n",
              "    <tr>\n",
              "      <th>14</th>\n",
              "      <td>14</td>\n",
              "      <td>31200</td>\n",
              "      <td>5609</td>\n",
              "    </tr>\n",
              "    <tr>\n",
              "      <th>15</th>\n",
              "      <td>15</td>\n",
              "      <td>27021</td>\n",
              "      <td>11883</td>\n",
              "    </tr>\n",
              "    <tr>\n",
              "      <th>16</th>\n",
              "      <td>16</td>\n",
              "      <td>18096</td>\n",
              "      <td>21463</td>\n",
              "    </tr>\n",
              "    <tr>\n",
              "      <th>17</th>\n",
              "      <td>17</td>\n",
              "      <td>8607</td>\n",
              "      <td>31142</td>\n",
              "    </tr>\n",
              "    <tr>\n",
              "      <th>18</th>\n",
              "      <td>18</td>\n",
              "      <td>2996</td>\n",
              "      <td>36809</td>\n",
              "    </tr>\n",
              "    <tr>\n",
              "      <th>19</th>\n",
              "      <td>19</td>\n",
              "      <td>920</td>\n",
              "      <td>38904</td>\n",
              "    </tr>\n",
              "    <tr>\n",
              "      <th>20</th>\n",
              "      <td>20</td>\n",
              "      <td>271</td>\n",
              "      <td>39559</td>\n",
              "    </tr>\n",
              "    <tr>\n",
              "      <th>21</th>\n",
              "      <td>21</td>\n",
              "      <td>83</td>\n",
              "      <td>39749</td>\n",
              "    </tr>\n",
              "    <tr>\n",
              "      <th>22</th>\n",
              "      <td>22</td>\n",
              "      <td>27</td>\n",
              "      <td>39805</td>\n",
              "    </tr>\n",
              "    <tr>\n",
              "      <th>23</th>\n",
              "      <td>23</td>\n",
              "      <td>8</td>\n",
              "      <td>39824</td>\n",
              "    </tr>\n",
              "    <tr>\n",
              "      <th>24</th>\n",
              "      <td>24</td>\n",
              "      <td>2</td>\n",
              "      <td>39830</td>\n",
              "    </tr>\n",
              "    <tr>\n",
              "      <th>25</th>\n",
              "      <td>25</td>\n",
              "      <td>0</td>\n",
              "      <td>39832</td>\n",
              "    </tr>\n",
              "  </tbody>\n",
              "</table>\n",
              "</div>\n",
              "      <button class=\"colab-df-convert\" onclick=\"convertToInteractive('df-bf06f27b-b37d-48ed-b2f1-54d1904a129e')\"\n",
              "              title=\"Convert this dataframe to an interactive table.\"\n",
              "              style=\"display:none;\">\n",
              "        \n",
              "  <svg xmlns=\"http://www.w3.org/2000/svg\" height=\"24px\"viewBox=\"0 0 24 24\"\n",
              "       width=\"24px\">\n",
              "    <path d=\"M0 0h24v24H0V0z\" fill=\"none\"/>\n",
              "    <path d=\"M18.56 5.44l.94 2.06.94-2.06 2.06-.94-2.06-.94-.94-2.06-.94 2.06-2.06.94zm-11 1L8.5 8.5l.94-2.06 2.06-.94-2.06-.94L8.5 2.5l-.94 2.06-2.06.94zm10 10l.94 2.06.94-2.06 2.06-.94-2.06-.94-.94-2.06-.94 2.06-2.06.94z\"/><path d=\"M17.41 7.96l-1.37-1.37c-.4-.4-.92-.59-1.43-.59-.52 0-1.04.2-1.43.59L10.3 9.45l-7.72 7.72c-.78.78-.78 2.05 0 2.83L4 21.41c.39.39.9.59 1.41.59.51 0 1.02-.2 1.41-.59l7.78-7.78 2.81-2.81c.8-.78.8-2.07 0-2.86zM5.41 20L4 18.59l7.72-7.72 1.47 1.35L5.41 20z\"/>\n",
              "  </svg>\n",
              "      </button>\n",
              "      \n",
              "  <style>\n",
              "    .colab-df-container {\n",
              "      display:flex;\n",
              "      flex-wrap:wrap;\n",
              "      gap: 12px;\n",
              "    }\n",
              "\n",
              "    .colab-df-convert {\n",
              "      background-color: #E8F0FE;\n",
              "      border: none;\n",
              "      border-radius: 50%;\n",
              "      cursor: pointer;\n",
              "      display: none;\n",
              "      fill: #1967D2;\n",
              "      height: 32px;\n",
              "      padding: 0 0 0 0;\n",
              "      width: 32px;\n",
              "    }\n",
              "\n",
              "    .colab-df-convert:hover {\n",
              "      background-color: #E2EBFA;\n",
              "      box-shadow: 0px 1px 2px rgba(60, 64, 67, 0.3), 0px 1px 3px 1px rgba(60, 64, 67, 0.15);\n",
              "      fill: #174EA6;\n",
              "    }\n",
              "\n",
              "    [theme=dark] .colab-df-convert {\n",
              "      background-color: #3B4455;\n",
              "      fill: #D2E3FC;\n",
              "    }\n",
              "\n",
              "    [theme=dark] .colab-df-convert:hover {\n",
              "      background-color: #434B5C;\n",
              "      box-shadow: 0px 1px 3px 1px rgba(0, 0, 0, 0.15);\n",
              "      filter: drop-shadow(0px 1px 2px rgba(0, 0, 0, 0.3));\n",
              "      fill: #FFFFFF;\n",
              "    }\n",
              "  </style>\n",
              "\n",
              "      <script>\n",
              "        const buttonEl =\n",
              "          document.querySelector('#df-bf06f27b-b37d-48ed-b2f1-54d1904a129e button.colab-df-convert');\n",
              "        buttonEl.style.display =\n",
              "          google.colab.kernel.accessAllowed ? 'block' : 'none';\n",
              "\n",
              "        async function convertToInteractive(key) {\n",
              "          const element = document.querySelector('#df-bf06f27b-b37d-48ed-b2f1-54d1904a129e');\n",
              "          const dataTable =\n",
              "            await google.colab.kernel.invokeFunction('convertToInteractive',\n",
              "                                                     [key], {});\n",
              "          if (!dataTable) return;\n",
              "\n",
              "          const docLinkHtml = 'Like what you see? Visit the ' +\n",
              "            '<a target=\"_blank\" href=https://colab.research.google.com/notebooks/data_table.ipynb>data table notebook</a>'\n",
              "            + ' to learn more about interactive tables.';\n",
              "          element.innerHTML = '';\n",
              "          dataTable['output_type'] = 'display_data';\n",
              "          await google.colab.output.renderOutput(dataTable, element);\n",
              "          const docLink = document.createElement('div');\n",
              "          docLink.innerHTML = docLinkHtml;\n",
              "          element.appendChild(docLink);\n",
              "        }\n",
              "      </script>\n",
              "    </div>\n",
              "  </div>\n",
              "  "
            ]
          },
          "metadata": {},
          "execution_count": 21
        }
      ],
      "source": [
        "df"
      ]
    },
    {
      "cell_type": "code",
      "execution_count": null,
      "id": "67eafb8e-5193-44f9-b6f4-8c612213fc68",
      "metadata": {
        "colab": {
          "base_uri": "https://localhost:8080/",
          "height": 449
        },
        "id": "67eafb8e-5193-44f9-b6f4-8c612213fc68",
        "outputId": "055bbc7e-d49a-4911-fb49-ac1290d33c18"
      },
      "outputs": [
        {
          "output_type": "display_data",
          "data": {
            "text/plain": [
              "<Figure size 640x480 with 1 Axes>"
            ],
            "image/png": "[encoded data removed]"
          },
          "metadata": {}
        }
      ],
      "source": [
        "fig = plt.figure()\n",
        "ax = plt.gca()\n",
        "fig = df.plot(kind='line', x='day', y='number_sick', ax=ax).get_figure()\n",
        "plt.savefig('test.png', bbox_inches='tight')\n",
        "plt.show()"
      ]
    },
    {
      "cell_type": "code",
      "execution_count": null,
      "id": "0f39ff0a-518b-49b8-b4e8-62a770dc8ef3",
      "metadata": {
        "colab": {
          "base_uri": "https://localhost:8080/",
          "height": 449
        },
        "id": "0f39ff0a-518b-49b8-b4e8-62a770dc8ef3",
        "outputId": "13034bf8-7c86-4372-8e7f-c638b36eb1d4"
      },
      "outputs": [
        {
          "output_type": "display_data",
          "data": {
            "text/plain": [
              "<Figure size 640x480 with 1 Axes>"
            ],
            "image/png": "[encoded data removed]"
          },
          "metadata": {}
        }
      ],
      "source": [
        "fig = plt.figure()\n",
        "ax = plt.gca()\n",
        "fig = df.plot(kind='line', x='day', y='number_recovered', ax=ax).get_figure()\n",
        "plt.savefig('test.png', bbox_inches='tight')\n",
        "plt.show()"
      ]
    },
    {
      "cell_type": "code",
      "execution_count": null,
      "id": "ee2eca21-c03b-4e99-8d65-cb3c848b2ded",
      "metadata": {
        "colab": {
          "base_uri": "https://localhost:8080/",
          "height": 449
        },
        "id": "ee2eca21-c03b-4e99-8d65-cb3c848b2ded",
        "outputId": "9527f9e4-85f2-4c98-9688-2c0cc5febb2a"
      },
      "outputs": [
        {
          "output_type": "display_data",
          "data": {
            "text/plain": [
              "<Figure size 640x480 with 1 Axes>"
            ],
            "image/png": "[encoded data removed]"
          },
          "metadata": {}
        }
      ],
      "source": [
        "fig = plt.figure()\n",
        "ax1 = plt.gca()\n",
        "fig1 = df.plot(kind='line', x='day', y='number_recovered', ax=ax1).get_figure()\n",
        "fig2 = df.plot(kind='line', x='day', y='number_sick', ax=ax1).get_figure()\n",
        "plt.savefig('test.png')\n",
        "plt.show()"
      ]
    },
    {
      "cell_type": "code",
      "execution_count": null,
      "id": "bbd9818d-2e03-40e7-b2ed-ce346978c812",
      "metadata": {
        "id": "bbd9818d-2e03-40e7-b2ed-ce346978c812"
      },
      "outputs": [],
      "source": [
        "df.to_csv(\"mydata.csv\")"
      ]
    },
    {
      "cell_type": "markdown",
      "id": "d7f7f4a2-4646-4b37-a6dc-7dcd6432fa92",
      "metadata": {
        "id": "d7f7f4a2-4646-4b37-a6dc-7dcd6432fa92"
      },
      "source": [
        "# Adding an \"Intervention\": Incorporating Mask Wearing\n",
        "\n",
        "Ref: Mask Effectiveness: https://www.cdc.gov/mmwr/volumes/71/wr/mm7106e1.htm \n",
        "\n",
        "Modify the `myCommunity = Population(40000,5,0)` decleration.\n",
        "\n",
        "_Syntax:_\n",
        "\n",
        "```Population( size_of_population, number_of_interactions, percentage_wearing_masks)```\n"
      ]
    },
    {
      "cell_type": "markdown",
      "id": "66f65919-598e-4d57-abda-8f4a62148121",
      "metadata": {
        "id": "66f65919-598e-4d57-abda-8f4a62148121"
      },
      "source": [
        "---\n",
        "<img src=\"images/Covid-SEIR-model.png\" style=\"border: solid 2px black;\"></img>\n",
        "\n",
        "<h1 style=\"color: purple;\">&#127942; SC22 Mini-Workshop Challenge</h1>\n",
        "\n",
        "Your challenge is to add interventions to the code based on the population and availability of ICU beds in Texarkana, TX so that critical care is never overwhlemed. You will need to find or designate a Critical Care Rate of no less than 25% without a vaccine.\n",
        "\n",
        "**Suggested interventions:**\n",
        "- &#128567; Masks \n",
        "- &#128137; Vaccinations  \n",
        "- &#128694; Social Distancing \n",
        "\n",
        "<h2 style=\"color:Green\"> Texarkana Specific References:</h2>\n",
        "\n",
        "Ref: Individual Hospital Statistics for Texas: https://www.ahd.com/states/hospital_TX.html\n",
        "\n",
        "&#128657; **Texarkana, TX Hospital Beds:**\n",
        "\n",
        " - CHRISTUS Saint Michael Hospital - 275 Total Beds / Special Care - 40\n",
        " - Wadley Regional Medical Center - 185 Total Beds / Special Care - 26\n",
        " \n",
        " **&#128719; Total 66 ICU Beds**\n",
        "\n",
        "\n",
        " ### CDC References:\n",
        " - Example Hospitalization Rates Pre-Vaccine: https://www.cdc.gov/mmwr/volumes/69/wr/mm6915e3.htm\n",
        " - Death Rates between Vaccinated and Unvaccinated: https://www.cdc.gov/mmwr/volumes/71/wr/mm7104e2.htm#T1_down \n",
        " - Mask Effectiveness: https://www.cdc.gov/mmwr/volumes/71/wr/mm7106e1.htm\n",
        " \n",
        "\n",
        "\n",
        "\n"
      ]
    },
    {
      "cell_type": "code",
      "execution_count": null,
      "id": "216e8937-3863-4f65-95e3-0d9bf72bbef2",
      "metadata": {
        "id": "216e8937-3863-4f65-95e3-0d9bf72bbef2"
      },
      "outputs": [],
      "source": []
    }
  ],
  "metadata": {
    "IMAGE_NAME": "taccsciapps/ds-nb-img:base-0.1.0",
    "UUID": "f5fba3ea-e6a5-11ec-b09d-b6ecb6431114",
    "kernelspec": {
      "display_name": "Python 3 (ipykernel)",
      "language": "python",
      "name": "python3"
    },
    "language_info": {
      "codemirror_mode": {
        "name": "ipython",
        "version": 3
      },
      "file_extension": ".py",
      "mimetype": "text/x-python",
      "name": "python",
      "nbconvert_exporter": "python",
      "pygments_lexer": "ipython3",
      "version": "3.9.10"
    },
    "colab": {
      "provenance": []
    }
  },
  "nbformat": 4,
  "nbformat_minor": 5
}